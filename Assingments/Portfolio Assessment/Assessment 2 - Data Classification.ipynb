{
 "cells": [
  {
   "cell_type": "markdown",
   "metadata": {},
   "source": [
    "<p style=\"text-align:left;\">\n",
    "    Foundations of Data Science 7COM1073\n",
    "    <span style=\"float:right;\">\n",
    "        University of Hertfordshire\n",
    "    </span>\n",
    "</p> \n",
    "\n",
    "<!-- <h2>Assessment 1 – Data Classification (75 marks)</h2>  -->\n",
    "\n",
    "<div align=\"center\">\n",
    "  <h2>Assessment 1 – Data Classification (75 marks)</h2>\n",
    "</div>\n",
    " \n",
    "This assessment includes two parts and counts for 75% of the overall assessment for this module. \n",
    "The first part is 20 marks and should be submitted by noon on 22/11/2019 and the second one is 55 marks and should be handed by 20/12/2019.\n",
    "\n",
    "The programming language you should use to finish this assessment is Python (in version 3 and above). In particular, you can use functions from the following packages: Numpy, Pandas, Matplotlib, Seaborn and Sklearn.  \n",
    "\n",
    "All Python skills needed to do this assessment have been covered in the practical sessions –practical notes are available on Canvas. \n",
    "\n",
    "The information of the dataset which you will work with can be viewed in the following link: https://archive.ics.uci.edu/ml/machine-learning-databases/wine-quality/  \n",
    "<sub><i> Note that you should work on the red wine dataset (winequality-red.csv) only, which can be downloaded from ‘Data Folder’ in the link given above. </i>\n",
    "\n"
   ]
  },
  {
   "cell_type": "markdown",
   "metadata": {},
   "source": [
    "\n",
    "\n",
    "<div align=\"center\">\n",
    "  <h3>Part one (20 marks)</h3>\n",
    "</div>\n",
    "\n",
    "***\n",
    "\n",
    "### **Task 1:** Data pre-processing and data exploration (15 marks) \n",
    "\n",
    "- a. Use Pandas to load data  \n",
    "- b. Merge all the data with “quality” labels between 6-10 into Class 1 and similarly form Class 2 for the data with “quality” labels between 1-5.\n",
    "- c. Report the number of features and number of rows in each class \n",
    "- d. Choose an attribute and generate a boxplot for the two pre-defined classes. \n",
    "- e. Show one scatter plot, that is, one feature against another feature. It is your choice to show which two features you want to use. \n",
    "\n",
    "***"
   ]
  },
  {
   "cell_type": "markdown",
   "metadata": {},
   "source": [
    "##### *a. Use Pandas to load data*"
   ]
  },
  {
   "cell_type": "code",
   "execution_count": 1,
   "metadata": {},
   "outputs": [
    {
     "name": "stdout",
     "output_type": "stream",
     "text": [
      "Shape of the red wine dataset is : (1599, 12)\n"
     ]
    },
    {
     "data": {
      "text/html": [
       "<div>\n",
       "<style scoped>\n",
       "    .dataframe tbody tr th:only-of-type {\n",
       "        vertical-align: middle;\n",
       "    }\n",
       "\n",
       "    .dataframe tbody tr th {\n",
       "        vertical-align: top;\n",
       "    }\n",
       "\n",
       "    .dataframe thead th {\n",
       "        text-align: right;\n",
       "    }\n",
       "</style>\n",
       "<table border=\"1\" class=\"dataframe\">\n",
       "  <thead>\n",
       "    <tr style=\"text-align: right;\">\n",
       "      <th></th>\n",
       "      <th>fixed acidity</th>\n",
       "      <th>volatile acidity</th>\n",
       "      <th>citric acid</th>\n",
       "      <th>residual sugar</th>\n",
       "      <th>chlorides</th>\n",
       "      <th>free sulfur dioxide</th>\n",
       "      <th>total sulfur dioxide</th>\n",
       "      <th>density</th>\n",
       "      <th>pH</th>\n",
       "      <th>sulphates</th>\n",
       "      <th>alcohol</th>\n",
       "      <th>quality</th>\n",
       "    </tr>\n",
       "  </thead>\n",
       "  <tbody>\n",
       "    <tr>\n",
       "      <th>0</th>\n",
       "      <td>7.4</td>\n",
       "      <td>0.70</td>\n",
       "      <td>0.00</td>\n",
       "      <td>1.9</td>\n",
       "      <td>0.076</td>\n",
       "      <td>11.0</td>\n",
       "      <td>34.0</td>\n",
       "      <td>0.9978</td>\n",
       "      <td>3.51</td>\n",
       "      <td>0.56</td>\n",
       "      <td>9.4</td>\n",
       "      <td>5</td>\n",
       "    </tr>\n",
       "    <tr>\n",
       "      <th>1</th>\n",
       "      <td>7.8</td>\n",
       "      <td>0.88</td>\n",
       "      <td>0.00</td>\n",
       "      <td>2.6</td>\n",
       "      <td>0.098</td>\n",
       "      <td>25.0</td>\n",
       "      <td>67.0</td>\n",
       "      <td>0.9968</td>\n",
       "      <td>3.20</td>\n",
       "      <td>0.68</td>\n",
       "      <td>9.8</td>\n",
       "      <td>5</td>\n",
       "    </tr>\n",
       "    <tr>\n",
       "      <th>2</th>\n",
       "      <td>7.8</td>\n",
       "      <td>0.76</td>\n",
       "      <td>0.04</td>\n",
       "      <td>2.3</td>\n",
       "      <td>0.092</td>\n",
       "      <td>15.0</td>\n",
       "      <td>54.0</td>\n",
       "      <td>0.9970</td>\n",
       "      <td>3.26</td>\n",
       "      <td>0.65</td>\n",
       "      <td>9.8</td>\n",
       "      <td>5</td>\n",
       "    </tr>\n",
       "    <tr>\n",
       "      <th>3</th>\n",
       "      <td>11.2</td>\n",
       "      <td>0.28</td>\n",
       "      <td>0.56</td>\n",
       "      <td>1.9</td>\n",
       "      <td>0.075</td>\n",
       "      <td>17.0</td>\n",
       "      <td>60.0</td>\n",
       "      <td>0.9980</td>\n",
       "      <td>3.16</td>\n",
       "      <td>0.58</td>\n",
       "      <td>9.8</td>\n",
       "      <td>6</td>\n",
       "    </tr>\n",
       "    <tr>\n",
       "      <th>4</th>\n",
       "      <td>7.4</td>\n",
       "      <td>0.70</td>\n",
       "      <td>0.00</td>\n",
       "      <td>1.9</td>\n",
       "      <td>0.076</td>\n",
       "      <td>11.0</td>\n",
       "      <td>34.0</td>\n",
       "      <td>0.9978</td>\n",
       "      <td>3.51</td>\n",
       "      <td>0.56</td>\n",
       "      <td>9.4</td>\n",
       "      <td>5</td>\n",
       "    </tr>\n",
       "  </tbody>\n",
       "</table>\n",
       "</div>"
      ],
      "text/plain": [
       "   fixed acidity  volatile acidity  citric acid  residual sugar  chlorides  \\\n",
       "0            7.4              0.70         0.00             1.9      0.076   \n",
       "1            7.8              0.88         0.00             2.6      0.098   \n",
       "2            7.8              0.76         0.04             2.3      0.092   \n",
       "3           11.2              0.28         0.56             1.9      0.075   \n",
       "4            7.4              0.70         0.00             1.9      0.076   \n",
       "\n",
       "   free sulfur dioxide  total sulfur dioxide  density    pH  sulphates  \\\n",
       "0                 11.0                  34.0   0.9978  3.51       0.56   \n",
       "1                 25.0                  67.0   0.9968  3.20       0.68   \n",
       "2                 15.0                  54.0   0.9970  3.26       0.65   \n",
       "3                 17.0                  60.0   0.9980  3.16       0.58   \n",
       "4                 11.0                  34.0   0.9978  3.51       0.56   \n",
       "\n",
       "   alcohol  quality  \n",
       "0      9.4        5  \n",
       "1      9.8        5  \n",
       "2      9.8        5  \n",
       "3      9.8        6  \n",
       "4      9.4        5  "
      ]
     },
     "execution_count": 1,
     "metadata": {},
     "output_type": "execute_result"
    }
   ],
   "source": [
    "import pandas as pd\n",
    "wine = pd.read_csv(\"https://archive.ics.uci.edu/ml/machine-learning-databases/wine-quality/winequality-red.csv\", delimiter= \";\")\n",
    "#wine = pd.read_csv(\"winequality-red.csv\")\n",
    "print(\"Shape of the red wine dataset is :\",wine.shape)\n",
    "wine.head()\n",
    "#wine.dtypes"
   ]
  },
  {
   "cell_type": "markdown",
   "metadata": {},
   "source": [
    "##### *b. Merge all the data with “quality” labels between 6-10 into Class 1 and similarly form Class 2 for the data with “quality” labels between 1-5.*\n"
   ]
  },
  {
   "cell_type": "code",
   "execution_count": 2,
   "metadata": {
    "scrolled": true
   },
   "outputs": [
    {
     "name": "stdout",
     "output_type": "stream",
     "text": [
      "Number of observations in Class 1 are 855 and Number of observations in Class 2 are 744\n"
     ]
    }
   ],
   "source": [
    "Class1 = wine.loc[(wine['quality'] >=6) & (wine['quality'] <=10)]\n",
    "Class2 = wine.loc[(wine['quality'] >=0) & (wine['quality'] <=5)]\n",
    "print(\"Number of observations in Class 1 are\",Class1['quality'].count(),\"and Number of observations in Class 2 are\",Class2['quality'].count())\n",
    "\n",
    "wine [\"quality\"] = wine[\"quality\"].replace([6,7,8,9,10],'Class 1')\n",
    "wine [\"quality\"] = wine[\"quality\"].replace([1,2,3,4,5],'Class 2')"
   ]
  },
  {
   "cell_type": "markdown",
   "metadata": {},
   "source": [
    "##### *c. Report the number of features and number of rows in each class*"
   ]
  },
  {
   "cell_type": "code",
   "execution_count": 3,
   "metadata": {},
   "outputs": [
    {
     "name": "stdout",
     "output_type": "stream",
     "text": [
      "Class 1 consists of 855 rows and 12 features\n",
      "Class 2 consists of 744 rows and 12 features\n"
     ]
    }
   ],
   "source": [
    "#c Report the number of features and number of rows in each class\n",
    "print(\"Class 1 consists of\",Class1.shape[0],\"rows and\",Class1.shape[1],\"features\")\n",
    "print(\"Class 2 consists of\",Class2.shape[0],\"rows and\",Class2.shape[1],\"features\")"
   ]
  },
  {
   "cell_type": "markdown",
   "metadata": {},
   "source": [
    "##### *d. Choose an attribute and generate a boxplot for the two pre-defined classes*"
   ]
  },
  {
   "cell_type": "code",
   "execution_count": 4,
   "metadata": {},
   "outputs": [
    {
     "data": {
      "image/png": "[encoded data removed]",
      "text/plain": [
       "<Figure size 648x432 with 1 Axes>"
      ]
     },
     "metadata": {
      "needs_background": "light"
     },
     "output_type": "display_data"
    }
   ],
   "source": [
    "import matplotlib.pyplot as plt\n",
    "import seaborn as sns\n",
    "\n",
    "%matplotlib inline\n",
    "   \n",
    "data_to_plot = [Class1['density'], Class2['density']]\n",
    "\n",
    "fig = plt.figure(1, figsize=(9, 6))\n",
    "ax = fig.add_subplot(111)\n",
    "ax.boxplot(data_to_plot)\n",
    "plt.title(' Boxplot of density in Class 1 and Class 2 ',fontsize=15)\n",
    "plt.xlabel(\"Class 1 and Class 2\")\n",
    "plt.ylabel(\"density \"r'$( g/cm^3 )$')\n",
    "\n",
    "\n",
    "fig.savefig('Boxplot of density in Class 1 and Class 2.png', bbox_inches='tight')"
   ]
  },
  {
   "cell_type": "markdown",
   "metadata": {},
   "source": [
    "##### *e. Show one scatter plot, that is, one feature against another feature. It is your choice to show which two features you want to use.*"
   ]
  },
  {
   "cell_type": "code",
   "execution_count": 5,
   "metadata": {},
   "outputs": [
    {
     "data": {
      "image/png": "[encoded data removed]",
      "text/plain": [
       "<Figure size 648x432 with 1 Axes>"
      ]
     },
     "metadata": {
      "needs_background": "light"
     },
     "output_type": "display_data"
    }
   ],
   "source": [
    "import numpy as np\n",
    "import matplotlib.pyplot as plt\n",
    "%matplotlib inline\n",
    "\n",
    "fig = plt.figure(1, figsize=(9, 6))\n",
    "ax = fig.add_subplot(111)\n",
    "area = np.pi*7\n",
    "\n",
    "plt.scatter(wine['free sulfur dioxide'], wine['total sulfur dioxide'], s = area , alpha=0.3)\n",
    "plt.title(' Scatter plot of Free sulfur diaoxide and Total sulfur dioxide',size = 15)\n",
    "plt.xlabel(\"Free sulfur dioxide \"r'$(mg/dm^3)$')\n",
    "plt.ylabel(\"Total sulfur dioxide \"r'$(mg/dm^3)$')\n",
    "plt.show()\n",
    "\n",
    "fig.savefig('Scatter plot of Free sulfur diaoxide and Total sulfur dioxide.png', bbox_inches='tight')"
   ]
  },
  {
   "cell_type": "markdown",
   "metadata": {},
   "source": [
    "***\n",
    "\n",
    "### **Task 2:**  Computing probabilities using Python code for the given red wine dataset (5 marks)  \n",
    "\n",
    "- f. Prior probability:  \n",
    "        i. What is the probability of a wine classified as Class 1 (P(Class 1))? \n",
    "       ii. What is the probability of a wine classified as Class 2 (P(Class 2))? \n",
    "- g. Conditional probability:\n",
    "        i. What is the probability of a wine having a pH value greater than 3.6 given it is classified as Class 1 (P(pH>3.6|Class 1))?\n",
    "- h. Posterior probability: \n",
    "        i.  What is the probability of a wine classified as Class 1 when it has a pH value greater than 3.6?\n",
    "\n"
   ]
  },
  {
   "cell_type": "markdown",
   "metadata": {},
   "source": [
    "##### <i>f. <u>Prior probability:</u> </i>\n",
    "   + *i. What is the probability of a wine classified as Class 1 (P(Class 1))?*\n",
    "   + *ii. What is the probability of a wine classified as Class 2 (P(Class 2))?*"
   ]
  },
  {
   "cell_type": "code",
   "execution_count": 6,
   "metadata": {},
   "outputs": [
    {
     "name": "stdout",
     "output_type": "stream",
     "text": [
      "The probability of a wine classified as Class 1 = 0.5347091932457786\n",
      "The probability of a wine classified as Class 2 = 0.4652908067542214\n"
     ]
    }
   ],
   "source": [
    "# f. Prior probablitiy\n",
    "import numpy as np\n",
    "import sympy as sp\n",
    "from sympy import FiniteSet\n",
    "\n",
    "SS = SampleSpace = wine['quality'].count()\n",
    "C1 = Class1['quality'].count()\n",
    "C2 = Class2['quality'].count()\n",
    "\n",
    "PC1 = C1/SampleSpace\n",
    "PC2 = C2/SampleSpace\n",
    "\n",
    "# i. What is the probability of a wine classified as Class 1 (P(Class 1))?\n",
    "print(\"The probability of a wine classified as Class 1 =\",PC1)\n",
    "\n",
    "# ii. What is the probability of a wine classified as Class 2 (P(Class 2))?\n",
    "print(\"The probability of a wine classified as Class 2 =\",PC2)"
   ]
  },
  {
   "cell_type": "markdown",
   "metadata": {},
   "source": [
    "<sup><i><b><u>Note:</b></u> Number of observations in: SampleSpace = 1599, Class1 = 855, Class2 = 744\n",
    "    \n",
    "\\begin{equation*}\n",
    "P(Class 1) = \\frac{855}{1599} = 0.5347091932457786 \\\\ P(Class 2) = \\frac{744}{1599} = 0.4652908067542214\n",
    "\\end{equation*}"
   ]
  },
  {
   "cell_type": "markdown",
   "metadata": {},
   "source": [
    "##### <i>g. <u>Conditional probability:</u></i>\n",
    "+ *i. What is the probability of a wine having a pH value greater than 3.6 given it is classified as Class 1 (P(pH>3.6|Class 1))?*"
   ]
  },
  {
   "cell_type": "code",
   "execution_count": 7,
   "metadata": {},
   "outputs": [
    {
     "name": "stdout",
     "output_type": "stream",
     "text": [
      "The count of values which have pH > 3.6 and are classified as Class 1 : 25\n",
      "\n",
      "The probability of a wine having a pH value greater than 3.6 given it is classified as Class 1 (P(pH>3.6|Class 1)) :\n",
      " 0.029239766081871343\n"
     ]
    }
   ],
   "source": [
    "#g. Conditional Probablity\n",
    "#i. What is the probability of a wine having a pH value greater than 3.6 given it is classified as Class 1 (P(pH>3.6|Class 1))?\n",
    "import pandas as pd \n",
    "\n",
    "DataFrame = pd.DataFrame(Class1)\n",
    "subsetDataFrame = DataFrame[DataFrame['pH'] > 3.6]\n",
    "\n",
    "# P_P = P(pH>3.6 and Class 1) =>  probability of a wine having a pH value greater than 3.6 and are classified as Class 1\n",
    "# P_C = P(Class1) => probabilty of a wine being classified as Class 1\n",
    "# P_probability => (P(pH>3.6|Class 1))\n",
    "\n",
    "P_P = subsetDataFrame['pH'].count()\n",
    "print(\"The count of values which have pH > 3.6 and are classified as Class 1 :\", P_P)\n",
    "P_P = P_P/SampleSpace\n",
    "P_C = Class1['pH'].count()\n",
    "P_C = P_C/SampleSpace\n",
    "P_probability = (P_P / P_C)\n",
    "\n",
    "print(\"\\nThe probability of a wine having a pH value greater than 3.6 given it is classified as Class 1 (P(pH>3.6|Class 1)) :\\n\",P_probability)\n"
   ]
  },
  {
   "cell_type": "markdown",
   "metadata": {},
   "source": [
    "<sup><i><b><u>Note:</b></u> Number of observations in: SampleSpace = 1599, Class1 = 855, Class2 = 744\n",
    "    \n",
    "\\begin{equation*}\n",
    "                Conditional\\;Probability: P(A|B) = \\frac{P(A \\cap B)}{P(B)}\n",
    "\\end{equation*}\n",
    "\n",
    "$$ P(pH>3.6|Class\\;1) = \\frac{\\frac{25}{1599}}{\\frac{855}{1599}} = \\frac{25}{855} = 0.029239766081871343 $$\n",
    "\n",
    "\\begin{equation*}\n",
    "Result : P(pH>3.6|Class\\;1) = 0.029239766081871343\n",
    "\\end{equation*}"
   ]
  },
  {
   "cell_type": "markdown",
   "metadata": {},
   "source": [
    "##### <i>h. <u>Posterior probability:</u> </i>\n",
    "+ *i.  What is the probability of a wine classified as Class 1 when it has a pH value greater than 3.6 (P(Class 1|pH>3.6))?*"
   ]
  },
  {
   "cell_type": "code",
   "execution_count": 8,
   "metadata": {
    "scrolled": true
   },
   "outputs": [
    {
     "name": "stdout",
     "output_type": "stream",
     "text": [
      "The count of values which have pH > 3.6 : 48\n",
      "\n",
      "The probability of a wine classified as Class 1 when it has a pH value greater than 3.6 (P(Class 1|pH>3.6)) :\n",
      " 0.5208333333333333\n"
     ]
    }
   ],
   "source": [
    "#h. Posterior probability:\n",
    "#i.  What is the probability of a wine classified as Class 1 when it has a pH value greater than 3.6 P(Class 1|pH>3.6)?\n",
    "import pandas as pd \n",
    "\n",
    "DataFrame = pd.DataFrame(wine)\n",
    "subsetDataFrame = DataFrame[DataFrame['pH'] > 3.6]\n",
    "\n",
    "# P_P = P(pH>3.6) =>  probability of a wine having a pH value greater than 3.6\n",
    "# P_C = P(Class1) => probabilty of a wine being classified as Class 1\n",
    "# P_probability => (P(Class 1|pH>3.6))\n",
    "\n",
    "P_P = subsetDataFrame['pH'].count()\n",
    "print(\"The count of values which have pH > 3.6 :\", P_P)\n",
    "P_P = P_P/SampleSpace\n",
    "P_C = Class1['pH'].count()\n",
    "P_C = P_C/SampleSpace\n",
    "P_probability = ((P_probability)*P_C)/P_P\n",
    "\n",
    "print(\"\\nThe probability of a wine classified as Class 1 when it has a pH value greater than 3.6 (P(Class 1|pH>3.6)) :\\n\",P_probability)\n"
   ]
  },
  {
   "cell_type": "markdown",
   "metadata": {},
   "source": [
    "<sup><i><b><u>Note:</b></u> Number of observations in: SampleSpace = 1599, Class1 = 855, Class2 = 744, pH>3.6 = 48, pH>3.6∩Class1 = 25\n",
    "\n",
    "\\begin{equation*}\n",
    "                Posterior\\;Probability: P(B|A) = \\frac{P(A|B)P(B)}{P(A)}\n",
    "\\end{equation*}\n",
    "\n",
    "\\begin{equation*}\n",
    "P(Class\\;1|pH>3.6) = \\frac{P(pH>3.6|Class\\;1)P(Class\\;1)}{P(pH>3.6)}\n",
    "\\end{equation*}\n",
    "\n",
    "\\begin{equation*}\n",
    "P(Class\\;1|pH>3.6) = \\frac{\\frac{25}{~~855~~}\\times{\\frac{~~855~~}{~~1599~~}}}{\\frac{48}{~~1599~~}} = \\frac{25}{48} = 0.5208333333333333\n",
    "\\end{equation*}\n",
    "\n",
    "\\begin{equation*}\n",
    "Result : (Class\\;1|pH>3.6) = 0.5208333333333333\n",
    "\\end{equation*}\n",
    "\n",
    "****"
   ]
  }
 ],
 "metadata": {
  "kernelspec": {
   "display_name": "Python 3",
   "language": "python",
   "name": "python3"
  },
  "language_info": {
   "codemirror_mode": {
    "name": "ipython",
    "version": 3
   },
   "file_extension": ".py",
   "mimetype": "text/x-python",
   "name": "python",
   "nbconvert_exporter": "python",
   "pygments_lexer": "ipython3",
   "version": "3.7.3"
  }
 },
 "nbformat": 4,
 "nbformat_minor": 2
}
